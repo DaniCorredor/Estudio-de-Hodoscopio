{
 "cells": [
  {
   "cell_type": "code",
   "execution_count": 1,
   "metadata": {},
   "outputs": [],
   "source": [
    "import numpy as np\n",
    "import matplotlib.pyplot as plt\n",
    "import pandas as pd"
   ]
  },
  {
   "cell_type": "code",
   "execution_count": 2,
   "metadata": {},
   "outputs": [],
   "source": [
    "df_boss = pd.read_csv(\"Datos\\Prueba_conección_MLider\\Run0_list.txt\", delim_whitespace=True, skiprows=9, names=[\"Brd\", \"Ch\", \"LG\", \"HG\", \"Tstamp_us\", \"TrgID\", \"NHits\"], engine=\"python\")\n",
    "df_sub = pd.read_csv(\"Datos\\Prueba_conección_MSubdito\\Run0_list.txt\", delim_whitespace=True, skiprows=9, names=[\"Brd\", \"Ch\", \"LG\", \"HG\", \"Tstamp_us\", \"TrgID\", \"NHits\"], engine=\"python\")"
   ]
  },
  {
   "cell_type": "code",
   "execution_count": 5,
   "metadata": {},
   "outputs": [
    {
     "data": {
      "application/vnd.microsoft.datawrangler.viewer.v0+json": {
       "columns": [
        {
         "name": "index",
         "rawType": "int64",
         "type": "integer"
        },
        {
         "name": "Brd",
         "rawType": "int64",
         "type": "integer"
        },
        {
         "name": "Ch",
         "rawType": "int64",
         "type": "integer"
        },
        {
         "name": "LG",
         "rawType": "int64",
         "type": "integer"
        },
        {
         "name": "HG",
         "rawType": "int64",
         "type": "integer"
        },
        {
         "name": "Tstamp_us",
         "rawType": "float64",
         "type": "float"
        },
        {
         "name": "TrgID",
         "rawType": "float64",
         "type": "float"
        },
        {
         "name": "NHits",
         "rawType": "float64",
         "type": "float"
        }
       ],
       "conversionMethod": "pd.DataFrame",
       "ref": "c246d1ff-18a3-4603-bdea-0aaec824f8cb",
       "rows": [
        [
         "0",
         "0",
         "0",
         "49",
         "60",
         "2438.664",
         "0.0",
         "64.0"
        ],
        [
         "1",
         "0",
         "1",
         "55",
         "50",
         null,
         null,
         null
        ],
        [
         "2",
         "0",
         "2",
         "47",
         "45",
         null,
         null,
         null
        ],
        [
         "3",
         "0",
         "3",
         "54",
         "56",
         null,
         null,
         null
        ],
        [
         "4",
         "0",
         "4",
         "49",
         "51",
         null,
         null,
         null
        ],
        [
         "5",
         "0",
         "5",
         "52",
         "50",
         null,
         null,
         null
        ],
        [
         "6",
         "0",
         "6",
         "47",
         "46",
         null,
         null,
         null
        ],
        [
         "7",
         "0",
         "7",
         "55",
         "64",
         null,
         null,
         null
        ],
        [
         "8",
         "0",
         "8",
         "51",
         "62",
         null,
         null,
         null
        ],
        [
         "9",
         "0",
         "9",
         "63",
         "185",
         null,
         null,
         null
        ],
        [
         "10",
         "0",
         "10",
         "55",
         "47",
         null,
         null,
         null
        ],
        [
         "11",
         "0",
         "11",
         "107",
         "740",
         null,
         null,
         null
        ],
        [
         "12",
         "0",
         "12",
         "1007",
         "4028",
         null,
         null,
         null
        ],
        [
         "13",
         "0",
         "13",
         "29",
         "0",
         null,
         null,
         null
        ],
        [
         "14",
         "0",
         "14",
         "110",
         "786",
         null,
         null,
         null
        ],
        [
         "15",
         "0",
         "15",
         "48",
         "160",
         null,
         null,
         null
        ],
        [
         "16",
         "0",
         "16",
         "49",
         "45",
         null,
         null,
         null
        ],
        [
         "17",
         "0",
         "17",
         "73",
         "441",
         null,
         null,
         null
        ],
        [
         "18",
         "0",
         "18",
         "89",
         "466",
         null,
         null,
         null
        ],
        [
         "19",
         "0",
         "19",
         "7",
         "0",
         null,
         null,
         null
        ],
        [
         "20",
         "0",
         "20",
         "93",
         "670",
         null,
         null,
         null
        ],
        [
         "21",
         "0",
         "21",
         "67",
         "210",
         null,
         null,
         null
        ],
        [
         "22",
         "0",
         "22",
         "50",
         "34",
         null,
         null,
         null
        ],
        [
         "23",
         "0",
         "23",
         "48",
         "57",
         null,
         null,
         null
        ],
        [
         "24",
         "0",
         "24",
         "58",
         "57",
         null,
         null,
         null
        ],
        [
         "25",
         "0",
         "25",
         "46",
         "53",
         null,
         null,
         null
        ],
        [
         "26",
         "0",
         "26",
         "45",
         "63",
         null,
         null,
         null
        ],
        [
         "27",
         "0",
         "27",
         "48",
         "33",
         null,
         null,
         null
        ],
        [
         "28",
         "0",
         "28",
         "53",
         "110",
         null,
         null,
         null
        ],
        [
         "29",
         "0",
         "29",
         "47",
         "55",
         null,
         null,
         null
        ],
        [
         "30",
         "0",
         "30",
         "58",
         "50",
         null,
         null,
         null
        ],
        [
         "31",
         "0",
         "31",
         "43",
         "56",
         null,
         null,
         null
        ],
        [
         "32",
         "0",
         "32",
         "47",
         "67",
         null,
         null,
         null
        ],
        [
         "33",
         "0",
         "33",
         "51",
         "55",
         null,
         null,
         null
        ],
        [
         "34",
         "0",
         "34",
         "47",
         "47",
         null,
         null,
         null
        ],
        [
         "35",
         "0",
         "35",
         "50",
         "44",
         null,
         null,
         null
        ],
        [
         "36",
         "0",
         "36",
         "44",
         "43",
         null,
         null,
         null
        ],
        [
         "37",
         "0",
         "37",
         "48",
         "40",
         null,
         null,
         null
        ],
        [
         "38",
         "0",
         "38",
         "48",
         "46",
         null,
         null,
         null
        ],
        [
         "39",
         "0",
         "39",
         "49",
         "40",
         null,
         null,
         null
        ],
        [
         "40",
         "0",
         "40",
         "45",
         "42",
         null,
         null,
         null
        ],
        [
         "41",
         "0",
         "41",
         "48",
         "46",
         null,
         null,
         null
        ],
        [
         "42",
         "0",
         "42",
         "60",
         "293",
         null,
         null,
         null
        ],
        [
         "43",
         "0",
         "43",
         "394",
         "3599",
         null,
         null,
         null
        ],
        [
         "44",
         "0",
         "44",
         "1098",
         "4025",
         null,
         null,
         null
        ],
        [
         "45",
         "0",
         "45",
         "227",
         "2013",
         null,
         null,
         null
        ],
        [
         "46",
         "0",
         "46",
         "44",
         "46",
         null,
         null,
         null
        ],
        [
         "47",
         "0",
         "47",
         "49",
         "46",
         null,
         null,
         null
        ],
        [
         "48",
         "0",
         "48",
         "48",
         "46",
         null,
         null,
         null
        ],
        [
         "49",
         "0",
         "49",
         "48",
         "38",
         null,
         null,
         null
        ]
       ],
       "shape": {
        "columns": 7,
        "rows": 3719168
       }
      },
      "text/html": [
       "<div>\n",
       "<style scoped>\n",
       "    .dataframe tbody tr th:only-of-type {\n",
       "        vertical-align: middle;\n",
       "    }\n",
       "\n",
       "    .dataframe tbody tr th {\n",
       "        vertical-align: top;\n",
       "    }\n",
       "\n",
       "    .dataframe thead th {\n",
       "        text-align: right;\n",
       "    }\n",
       "</style>\n",
       "<table border=\"1\" class=\"dataframe\">\n",
       "  <thead>\n",
       "    <tr style=\"text-align: right;\">\n",
       "      <th></th>\n",
       "      <th>Brd</th>\n",
       "      <th>Ch</th>\n",
       "      <th>LG</th>\n",
       "      <th>HG</th>\n",
       "      <th>Tstamp_us</th>\n",
       "      <th>TrgID</th>\n",
       "      <th>NHits</th>\n",
       "    </tr>\n",
       "  </thead>\n",
       "  <tbody>\n",
       "    <tr>\n",
       "      <th>0</th>\n",
       "      <td>0</td>\n",
       "      <td>0</td>\n",
       "      <td>49</td>\n",
       "      <td>60</td>\n",
       "      <td>2438.664</td>\n",
       "      <td>0.0</td>\n",
       "      <td>64.0</td>\n",
       "    </tr>\n",
       "    <tr>\n",
       "      <th>1</th>\n",
       "      <td>0</td>\n",
       "      <td>1</td>\n",
       "      <td>55</td>\n",
       "      <td>50</td>\n",
       "      <td>NaN</td>\n",
       "      <td>NaN</td>\n",
       "      <td>NaN</td>\n",
       "    </tr>\n",
       "    <tr>\n",
       "      <th>2</th>\n",
       "      <td>0</td>\n",
       "      <td>2</td>\n",
       "      <td>47</td>\n",
       "      <td>45</td>\n",
       "      <td>NaN</td>\n",
       "      <td>NaN</td>\n",
       "      <td>NaN</td>\n",
       "    </tr>\n",
       "    <tr>\n",
       "      <th>3</th>\n",
       "      <td>0</td>\n",
       "      <td>3</td>\n",
       "      <td>54</td>\n",
       "      <td>56</td>\n",
       "      <td>NaN</td>\n",
       "      <td>NaN</td>\n",
       "      <td>NaN</td>\n",
       "    </tr>\n",
       "    <tr>\n",
       "      <th>4</th>\n",
       "      <td>0</td>\n",
       "      <td>4</td>\n",
       "      <td>49</td>\n",
       "      <td>51</td>\n",
       "      <td>NaN</td>\n",
       "      <td>NaN</td>\n",
       "      <td>NaN</td>\n",
       "    </tr>\n",
       "    <tr>\n",
       "      <th>...</th>\n",
       "      <td>...</td>\n",
       "      <td>...</td>\n",
       "      <td>...</td>\n",
       "      <td>...</td>\n",
       "      <td>...</td>\n",
       "      <td>...</td>\n",
       "      <td>...</td>\n",
       "    </tr>\n",
       "    <tr>\n",
       "      <th>3719163</th>\n",
       "      <td>0</td>\n",
       "      <td>59</td>\n",
       "      <td>4066</td>\n",
       "      <td>4036</td>\n",
       "      <td>NaN</td>\n",
       "      <td>NaN</td>\n",
       "      <td>NaN</td>\n",
       "    </tr>\n",
       "    <tr>\n",
       "      <th>3719164</th>\n",
       "      <td>0</td>\n",
       "      <td>60</td>\n",
       "      <td>3998</td>\n",
       "      <td>4022</td>\n",
       "      <td>NaN</td>\n",
       "      <td>NaN</td>\n",
       "      <td>NaN</td>\n",
       "    </tr>\n",
       "    <tr>\n",
       "      <th>3719165</th>\n",
       "      <td>0</td>\n",
       "      <td>61</td>\n",
       "      <td>139</td>\n",
       "      <td>1033</td>\n",
       "      <td>NaN</td>\n",
       "      <td>NaN</td>\n",
       "      <td>NaN</td>\n",
       "    </tr>\n",
       "    <tr>\n",
       "      <th>3719166</th>\n",
       "      <td>0</td>\n",
       "      <td>62</td>\n",
       "      <td>135</td>\n",
       "      <td>1017</td>\n",
       "      <td>NaN</td>\n",
       "      <td>NaN</td>\n",
       "      <td>NaN</td>\n",
       "    </tr>\n",
       "    <tr>\n",
       "      <th>3719167</th>\n",
       "      <td>0</td>\n",
       "      <td>63</td>\n",
       "      <td>132</td>\n",
       "      <td>991</td>\n",
       "      <td>NaN</td>\n",
       "      <td>NaN</td>\n",
       "      <td>NaN</td>\n",
       "    </tr>\n",
       "  </tbody>\n",
       "</table>\n",
       "<p>3719168 rows × 7 columns</p>\n",
       "</div>"
      ],
      "text/plain": [
       "         Brd  Ch    LG    HG  Tstamp_us  TrgID  NHits\n",
       "0          0   0    49    60   2438.664    0.0   64.0\n",
       "1          0   1    55    50        NaN    NaN    NaN\n",
       "2          0   2    47    45        NaN    NaN    NaN\n",
       "3          0   3    54    56        NaN    NaN    NaN\n",
       "4          0   4    49    51        NaN    NaN    NaN\n",
       "...      ...  ..   ...   ...        ...    ...    ...\n",
       "3719163    0  59  4066  4036        NaN    NaN    NaN\n",
       "3719164    0  60  3998  4022        NaN    NaN    NaN\n",
       "3719165    0  61   139  1033        NaN    NaN    NaN\n",
       "3719166    0  62   135  1017        NaN    NaN    NaN\n",
       "3719167    0  63   132   991        NaN    NaN    NaN\n",
       "\n",
       "[3719168 rows x 7 columns]"
      ]
     },
     "execution_count": 5,
     "metadata": {},
     "output_type": "execute_result"
    }
   ],
   "source": [
    "df_boss"
   ]
  },
  {
   "cell_type": "code",
   "execution_count": 6,
   "metadata": {},
   "outputs": [
    {
     "data": {
      "application/vnd.microsoft.datawrangler.viewer.v0+json": {
       "columns": [
        {
         "name": "index",
         "rawType": "int64",
         "type": "integer"
        },
        {
         "name": "Brd",
         "rawType": "int64",
         "type": "integer"
        },
        {
         "name": "Ch",
         "rawType": "int64",
         "type": "integer"
        },
        {
         "name": "LG",
         "rawType": "int64",
         "type": "integer"
        },
        {
         "name": "HG",
         "rawType": "int64",
         "type": "integer"
        },
        {
         "name": "Tstamp_us",
         "rawType": "float64",
         "type": "float"
        },
        {
         "name": "TrgID",
         "rawType": "float64",
         "type": "float"
        },
        {
         "name": "NHits",
         "rawType": "float64",
         "type": "float"
        }
       ],
       "conversionMethod": "pd.DataFrame",
       "ref": "5a04ef5f-4f2f-4c6f-b5b2-28f5b3652961",
       "rows": [
        [
         "0",
         "0",
         "0",
         "26",
         "32",
         "6907691.944",
         "0.0",
         "64.0"
        ],
        [
         "1",
         "0",
         "1",
         "22",
         "19",
         null,
         null,
         null
        ],
        [
         "2",
         "0",
         "2",
         "20",
         "21",
         null,
         null,
         null
        ],
        [
         "3",
         "0",
         "3",
         "20",
         "17",
         null,
         null,
         null
        ],
        [
         "4",
         "0",
         "4",
         "25",
         "19",
         null,
         null,
         null
        ],
        [
         "5",
         "0",
         "5",
         "27",
         "21",
         null,
         null,
         null
        ],
        [
         "6",
         "0",
         "6",
         "29",
         "19",
         null,
         null,
         null
        ],
        [
         "7",
         "0",
         "7",
         "25",
         "21",
         null,
         null,
         null
        ],
        [
         "8",
         "0",
         "8",
         "27",
         "20",
         null,
         null,
         null
        ],
        [
         "9",
         "0",
         "9",
         "25",
         "21",
         null,
         null,
         null
        ],
        [
         "10",
         "0",
         "10",
         "26",
         "21",
         null,
         null,
         null
        ],
        [
         "11",
         "0",
         "11",
         "26",
         "21",
         null,
         null,
         null
        ],
        [
         "12",
         "0",
         "12",
         "30",
         "18",
         null,
         null,
         null
        ],
        [
         "13",
         "0",
         "13",
         "28",
         "12",
         null,
         null,
         null
        ],
        [
         "14",
         "0",
         "14",
         "25",
         "17",
         null,
         null,
         null
        ],
        [
         "15",
         "0",
         "15",
         "25",
         "21",
         null,
         null,
         null
        ],
        [
         "16",
         "0",
         "16",
         "21",
         "17",
         null,
         null,
         null
        ],
        [
         "17",
         "0",
         "17",
         "30",
         "285",
         null,
         null,
         null
        ],
        [
         "18",
         "0",
         "18",
         "19",
         "17",
         null,
         null,
         null
        ],
        [
         "19",
         "0",
         "19",
         "28",
         "20",
         null,
         null,
         null
        ],
        [
         "20",
         "0",
         "20",
         "24",
         "22",
         null,
         null,
         null
        ],
        [
         "21",
         "0",
         "21",
         "24",
         "23",
         null,
         null,
         null
        ],
        [
         "22",
         "0",
         "22",
         "30",
         "17",
         null,
         null,
         null
        ],
        [
         "23",
         "0",
         "23",
         "24",
         "19",
         null,
         null,
         null
        ],
        [
         "24",
         "0",
         "24",
         "27",
         "18",
         null,
         null,
         null
        ],
        [
         "25",
         "0",
         "25",
         "25",
         "26",
         null,
         null,
         null
        ],
        [
         "26",
         "0",
         "26",
         "28",
         "14",
         null,
         null,
         null
        ],
        [
         "27",
         "0",
         "27",
         "28",
         "16",
         null,
         null,
         null
        ],
        [
         "28",
         "0",
         "28",
         "24",
         "14",
         null,
         null,
         null
        ],
        [
         "29",
         "0",
         "29",
         "21",
         "28",
         null,
         null,
         null
        ],
        [
         "30",
         "0",
         "30",
         "31",
         "19",
         null,
         null,
         null
        ],
        [
         "31",
         "0",
         "31",
         "23",
         "24",
         null,
         null,
         null
        ],
        [
         "32",
         "0",
         "32",
         "20",
         "0",
         null,
         null,
         null
        ],
        [
         "33",
         "0",
         "33",
         "29",
         "0",
         null,
         null,
         null
        ],
        [
         "34",
         "0",
         "34",
         "28",
         "19",
         null,
         null,
         null
        ],
        [
         "35",
         "0",
         "35",
         "26",
         "19",
         null,
         null,
         null
        ],
        [
         "36",
         "0",
         "36",
         "31",
         "19",
         null,
         null,
         null
        ],
        [
         "37",
         "0",
         "37",
         "22",
         "26",
         null,
         null,
         null
        ],
        [
         "38",
         "0",
         "38",
         "24",
         "0",
         null,
         null,
         null
        ],
        [
         "39",
         "0",
         "39",
         "34",
         "16",
         null,
         null,
         null
        ],
        [
         "40",
         "0",
         "40",
         "27",
         "23",
         null,
         null,
         null
        ],
        [
         "41",
         "0",
         "41",
         "33",
         "26",
         null,
         null,
         null
        ],
        [
         "42",
         "0",
         "42",
         "24",
         "26",
         null,
         null,
         null
        ],
        [
         "43",
         "0",
         "43",
         "23",
         "22",
         null,
         null,
         null
        ],
        [
         "44",
         "0",
         "44",
         "24",
         "14",
         null,
         null,
         null
        ],
        [
         "45",
         "0",
         "45",
         "33",
         "28",
         null,
         null,
         null
        ],
        [
         "46",
         "0",
         "46",
         "27",
         "20",
         null,
         null,
         null
        ],
        [
         "47",
         "0",
         "47",
         "26",
         "22",
         null,
         null,
         null
        ],
        [
         "48",
         "0",
         "48",
         "29",
         "30",
         null,
         null,
         null
        ],
        [
         "49",
         "0",
         "49",
         "22",
         "24",
         null,
         null,
         null
        ]
       ],
       "shape": {
        "columns": 7,
        "rows": 3719296
       }
      },
      "text/html": [
       "<div>\n",
       "<style scoped>\n",
       "    .dataframe tbody tr th:only-of-type {\n",
       "        vertical-align: middle;\n",
       "    }\n",
       "\n",
       "    .dataframe tbody tr th {\n",
       "        vertical-align: top;\n",
       "    }\n",
       "\n",
       "    .dataframe thead th {\n",
       "        text-align: right;\n",
       "    }\n",
       "</style>\n",
       "<table border=\"1\" class=\"dataframe\">\n",
       "  <thead>\n",
       "    <tr style=\"text-align: right;\">\n",
       "      <th></th>\n",
       "      <th>Brd</th>\n",
       "      <th>Ch</th>\n",
       "      <th>LG</th>\n",
       "      <th>HG</th>\n",
       "      <th>Tstamp_us</th>\n",
       "      <th>TrgID</th>\n",
       "      <th>NHits</th>\n",
       "    </tr>\n",
       "  </thead>\n",
       "  <tbody>\n",
       "    <tr>\n",
       "      <th>0</th>\n",
       "      <td>0</td>\n",
       "      <td>0</td>\n",
       "      <td>26</td>\n",
       "      <td>32</td>\n",
       "      <td>6907691.944</td>\n",
       "      <td>0.0</td>\n",
       "      <td>64.0</td>\n",
       "    </tr>\n",
       "    <tr>\n",
       "      <th>1</th>\n",
       "      <td>0</td>\n",
       "      <td>1</td>\n",
       "      <td>22</td>\n",
       "      <td>19</td>\n",
       "      <td>NaN</td>\n",
       "      <td>NaN</td>\n",
       "      <td>NaN</td>\n",
       "    </tr>\n",
       "    <tr>\n",
       "      <th>2</th>\n",
       "      <td>0</td>\n",
       "      <td>2</td>\n",
       "      <td>20</td>\n",
       "      <td>21</td>\n",
       "      <td>NaN</td>\n",
       "      <td>NaN</td>\n",
       "      <td>NaN</td>\n",
       "    </tr>\n",
       "    <tr>\n",
       "      <th>3</th>\n",
       "      <td>0</td>\n",
       "      <td>3</td>\n",
       "      <td>20</td>\n",
       "      <td>17</td>\n",
       "      <td>NaN</td>\n",
       "      <td>NaN</td>\n",
       "      <td>NaN</td>\n",
       "    </tr>\n",
       "    <tr>\n",
       "      <th>4</th>\n",
       "      <td>0</td>\n",
       "      <td>4</td>\n",
       "      <td>25</td>\n",
       "      <td>19</td>\n",
       "      <td>NaN</td>\n",
       "      <td>NaN</td>\n",
       "      <td>NaN</td>\n",
       "    </tr>\n",
       "    <tr>\n",
       "      <th>...</th>\n",
       "      <td>...</td>\n",
       "      <td>...</td>\n",
       "      <td>...</td>\n",
       "      <td>...</td>\n",
       "      <td>...</td>\n",
       "      <td>...</td>\n",
       "      <td>...</td>\n",
       "    </tr>\n",
       "    <tr>\n",
       "      <th>3719291</th>\n",
       "      <td>0</td>\n",
       "      <td>59</td>\n",
       "      <td>4015</td>\n",
       "      <td>4058</td>\n",
       "      <td>NaN</td>\n",
       "      <td>NaN</td>\n",
       "      <td>NaN</td>\n",
       "    </tr>\n",
       "    <tr>\n",
       "      <th>3719292</th>\n",
       "      <td>0</td>\n",
       "      <td>60</td>\n",
       "      <td>4042</td>\n",
       "      <td>4058</td>\n",
       "      <td>NaN</td>\n",
       "      <td>NaN</td>\n",
       "      <td>NaN</td>\n",
       "    </tr>\n",
       "    <tr>\n",
       "      <th>3719293</th>\n",
       "      <td>0</td>\n",
       "      <td>61</td>\n",
       "      <td>107</td>\n",
       "      <td>902</td>\n",
       "      <td>NaN</td>\n",
       "      <td>NaN</td>\n",
       "      <td>NaN</td>\n",
       "    </tr>\n",
       "    <tr>\n",
       "      <th>3719294</th>\n",
       "      <td>0</td>\n",
       "      <td>62</td>\n",
       "      <td>97</td>\n",
       "      <td>877</td>\n",
       "      <td>NaN</td>\n",
       "      <td>NaN</td>\n",
       "      <td>NaN</td>\n",
       "    </tr>\n",
       "    <tr>\n",
       "      <th>3719295</th>\n",
       "      <td>0</td>\n",
       "      <td>63</td>\n",
       "      <td>100</td>\n",
       "      <td>867</td>\n",
       "      <td>NaN</td>\n",
       "      <td>NaN</td>\n",
       "      <td>NaN</td>\n",
       "    </tr>\n",
       "  </tbody>\n",
       "</table>\n",
       "<p>3719296 rows × 7 columns</p>\n",
       "</div>"
      ],
      "text/plain": [
       "         Brd  Ch    LG    HG    Tstamp_us  TrgID  NHits\n",
       "0          0   0    26    32  6907691.944    0.0   64.0\n",
       "1          0   1    22    19          NaN    NaN    NaN\n",
       "2          0   2    20    21          NaN    NaN    NaN\n",
       "3          0   3    20    17          NaN    NaN    NaN\n",
       "4          0   4    25    19          NaN    NaN    NaN\n",
       "...      ...  ..   ...   ...          ...    ...    ...\n",
       "3719291    0  59  4015  4058          NaN    NaN    NaN\n",
       "3719292    0  60  4042  4058          NaN    NaN    NaN\n",
       "3719293    0  61   107   902          NaN    NaN    NaN\n",
       "3719294    0  62    97   877          NaN    NaN    NaN\n",
       "3719295    0  63   100   867          NaN    NaN    NaN\n",
       "\n",
       "[3719296 rows x 7 columns]"
      ]
     },
     "execution_count": 6,
     "metadata": {},
     "output_type": "execute_result"
    }
   ],
   "source": [
    "df_sub"
   ]
  },
  {
   "cell_type": "code",
   "execution_count": null,
   "metadata": {},
   "outputs": [
    {
     "data": {
      "text/plain": [
       "0        0.000000e+00\n",
       "1        1.575784e+03\n",
       "2        1.157576e+04\n",
       "3        2.157574e+04\n",
       "4        3.157570e+04\n",
       "             ...     \n",
       "58107    5.399602e+08\n",
       "58108    5.399702e+08\n",
       "58109    5.399802e+08\n",
       "58110    5.399902e+08\n",
       "58111    5.400002e+08\n",
       "Name: Tstamp_us, Length: 58112, dtype: float64"
      ]
     },
     "execution_count": 20,
     "metadata": {},
     "output_type": "execute_result"
    }
   ],
   "source": [
    "# Elimina los vacios y se resta los tiempos de los disparos respecto al primero, tambien se resetea el indice\n",
    "boss_time = (df_boss[\"Tstamp_us\"].dropna()- df_boss[\"Tstamp_us\"].dropna()[0])/1\n",
    "sub_time = (df_sub[\"Tstamp_us\"].dropna()- df_sub[\"Tstamp_us\"].dropna()[0])/1\n",
    "boss_time = boss_time.reset_index(drop=True)\n",
    "sub_time = sub_time.reset_index(drop=True)\n",
    "boss_time"
   ]
  },
  {
   "cell_type": "code",
   "execution_count": 21,
   "metadata": {},
   "outputs": [
    {
     "data": {
      "text/plain": [
       "0        0.000000e+00\n",
       "1        1.575784e+03\n",
       "2        1.157576e+04\n",
       "3        2.157574e+04\n",
       "4        3.157572e+04\n",
       "             ...     \n",
       "58109    5.399805e+08\n",
       "58110    5.399905e+08\n",
       "58111    5.400005e+08\n",
       "58112    5.400105e+08\n",
       "58113    5.400205e+08\n",
       "Name: Tstamp_us, Length: 58114, dtype: float64"
      ]
     },
     "execution_count": 21,
     "metadata": {},
     "output_type": "execute_result"
    }
   ],
   "source": [
    "sub_time"
   ]
  },
  {
   "cell_type": "markdown",
   "metadata": {},
   "source": [
    "diferencia de timpos por disparo entre matrices"
   ]
  },
  {
   "cell_type": "code",
   "execution_count": 24,
   "metadata": {},
   "outputs": [
    {
     "data": {
      "text/plain": [
       "Text(0, 0.5, '|Δt| [μs]')"
      ]
     },
     "execution_count": 24,
     "metadata": {},
     "output_type": "execute_result"
    },
    {
     "data": {
      "image/png": "[encoded data removed]",
      "text/plain": [
       "<Figure size 640x480 with 1 Axes>"
      ]
     },
     "metadata": {},
     "output_type": "display_data"
    }
   ],
   "source": [
    "ceros = []\n",
    "lista = []\n",
    "for i in range(len(boss_time)-1):\n",
    "    lista.append(sub_time[i]-boss_time[i])\n",
    "    ceros.append(i)\n",
    "    \n",
    "plt.plot(ceros, lista)\n",
    "plt.title(\"Diferencia de tiempo entre matrices por evento\")\n",
    "plt.xlabel(\"Evento\")\n",
    "plt.ylabel(\"|Δt| [μs]\")"
   ]
  }
 ],
 "metadata": {
  "kernelspec": {
   "display_name": "Python 3",
   "language": "python",
   "name": "python3"
  },
  "language_info": {
   "codemirror_mode": {
    "name": "ipython",
    "version": 3
   },
   "file_extension": ".py",
   "mimetype": "text/x-python",
   "name": "python",
   "nbconvert_exporter": "python",
   "pygments_lexer": "ipython3",
   "version": "3.11.2"
  }
 },
 "nbformat": 4,
 "nbformat_minor": 2
}
