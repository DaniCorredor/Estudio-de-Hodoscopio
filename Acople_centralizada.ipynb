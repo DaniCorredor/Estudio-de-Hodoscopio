{
 "cells": [
  {
   "cell_type": "code",
   "execution_count": 1,
   "metadata": {},
   "outputs": [],
   "source": [
    "import numpy as np\n",
    "import matplotlib.pyplot as plt\n",
    "import pandas as pd"
   ]
  },
  {
   "cell_type": "code",
   "execution_count": 2,
   "metadata": {},
   "outputs": [
    {
     "data": {
      "application/vnd.microsoft.datawrangler.viewer.v0+json": {
       "columns": [
        {
         "name": "index",
         "rawType": "int64",
         "type": "integer"
        },
        {
         "name": "Brd",
         "rawType": "int64",
         "type": "integer"
        },
        {
         "name": "Ch",
         "rawType": "int64",
         "type": "integer"
        },
        {
         "name": "LG",
         "rawType": "int64",
         "type": "integer"
        },
        {
         "name": "HG",
         "rawType": "object",
         "type": "string"
        },
        {
         "name": "Tstamp_us",
         "rawType": "float64",
         "type": "float"
        },
        {
         "name": "TrgID",
         "rawType": "float64",
         "type": "float"
        },
        {
         "name": "NHits",
         "rawType": "float64",
         "type": "float"
        }
       ],
       "conversionMethod": "pd.DataFrame",
       "ref": "9df5dbeb-682e-4e2a-8956-2b850a084663",
       "rows": [
        [
         "0",
         "1",
         "0",
         "27",
         "-",
         "8785.784",
         "0.0",
         "64.0"
        ],
        [
         "1",
         "1",
         "1",
         "30",
         "-",
         null,
         null,
         null
        ],
        [
         "2",
         "1",
         "2",
         "34",
         "-",
         null,
         null,
         null
        ],
        [
         "3",
         "1",
         "3",
         "35",
         "-",
         null,
         null,
         null
        ],
        [
         "4",
         "1",
         "4",
         "26",
         "-",
         null,
         null,
         null
        ],
        [
         "5",
         "1",
         "5",
         "27",
         "-",
         null,
         null,
         null
        ],
        [
         "6",
         "1",
         "6",
         "31",
         "-",
         null,
         null,
         null
        ],
        [
         "7",
         "1",
         "7",
         "28",
         "-",
         null,
         null,
         null
        ],
        [
         "8",
         "1",
         "8",
         "31",
         "-",
         null,
         null,
         null
        ],
        [
         "9",
         "1",
         "9",
         "29",
         "-",
         null,
         null,
         null
        ],
        [
         "10",
         "1",
         "10",
         "29",
         "-",
         null,
         null,
         null
        ],
        [
         "11",
         "1",
         "11",
         "27",
         "-",
         null,
         null,
         null
        ],
        [
         "12",
         "1",
         "12",
         "37",
         "-",
         null,
         null,
         null
        ],
        [
         "13",
         "1",
         "13",
         "29",
         "-",
         null,
         null,
         null
        ],
        [
         "14",
         "1",
         "14",
         "27",
         "-",
         null,
         null,
         null
        ],
        [
         "15",
         "1",
         "15",
         "29",
         "-",
         null,
         null,
         null
        ],
        [
         "16",
         "1",
         "16",
         "26",
         "-",
         null,
         null,
         null
        ],
        [
         "17",
         "1",
         "17",
         "32",
         "-",
         null,
         null,
         null
        ],
        [
         "18",
         "1",
         "18",
         "26",
         "-",
         null,
         null,
         null
        ],
        [
         "19",
         "1",
         "19",
         "31",
         "-",
         null,
         null,
         null
        ],
        [
         "20",
         "1",
         "20",
         "22",
         "-",
         null,
         null,
         null
        ],
        [
         "21",
         "1",
         "21",
         "22",
         "-",
         null,
         null,
         null
        ],
        [
         "22",
         "1",
         "22",
         "28",
         "-",
         null,
         null,
         null
        ],
        [
         "23",
         "1",
         "23",
         "26",
         "-",
         null,
         null,
         null
        ],
        [
         "24",
         "1",
         "24",
         "26",
         "-",
         null,
         null,
         null
        ],
        [
         "25",
         "1",
         "25",
         "26",
         "-",
         null,
         null,
         null
        ],
        [
         "26",
         "1",
         "26",
         "29",
         "-",
         null,
         null,
         null
        ],
        [
         "27",
         "1",
         "27",
         "22",
         "-",
         null,
         null,
         null
        ],
        [
         "28",
         "1",
         "28",
         "29",
         "-",
         null,
         null,
         null
        ],
        [
         "29",
         "1",
         "29",
         "31",
         "-",
         null,
         null,
         null
        ],
        [
         "30",
         "1",
         "30",
         "3829",
         "-",
         null,
         null,
         null
        ],
        [
         "31",
         "1",
         "31",
         "28",
         "-",
         null,
         null,
         null
        ],
        [
         "32",
         "1",
         "32",
         "19",
         "-",
         null,
         null,
         null
        ],
        [
         "33",
         "1",
         "33",
         "23",
         "-",
         null,
         null,
         null
        ],
        [
         "34",
         "1",
         "34",
         "20",
         "-",
         null,
         null,
         null
        ],
        [
         "35",
         "1",
         "35",
         "20",
         "-",
         null,
         null,
         null
        ],
        [
         "36",
         "1",
         "36",
         "20",
         "-",
         null,
         null,
         null
        ],
        [
         "37",
         "1",
         "37",
         "17",
         "-",
         null,
         null,
         null
        ],
        [
         "38",
         "1",
         "38",
         "24",
         "-",
         null,
         null,
         null
        ],
        [
         "39",
         "1",
         "39",
         "24",
         "-",
         null,
         null,
         null
        ],
        [
         "40",
         "1",
         "40",
         "19",
         "-",
         null,
         null,
         null
        ],
        [
         "41",
         "1",
         "41",
         "22",
         "-",
         null,
         null,
         null
        ],
        [
         "42",
         "1",
         "42",
         "20",
         "-",
         null,
         null,
         null
        ],
        [
         "43",
         "1",
         "43",
         "29",
         "-",
         null,
         null,
         null
        ],
        [
         "44",
         "1",
         "44",
         "18",
         "-",
         null,
         null,
         null
        ],
        [
         "45",
         "1",
         "45",
         "19",
         "-",
         null,
         null,
         null
        ],
        [
         "46",
         "1",
         "46",
         "22",
         "-",
         null,
         null,
         null
        ],
        [
         "47",
         "1",
         "47",
         "25",
         "-",
         null,
         null,
         null
        ],
        [
         "48",
         "1",
         "48",
         "25",
         "-",
         null,
         null,
         null
        ],
        [
         "49",
         "1",
         "49",
         "17",
         "-",
         null,
         null,
         null
        ]
       ],
       "shape": {
        "columns": 7,
        "rows": 526016
       }
      },
      "text/html": [
       "<div>\n",
       "<style scoped>\n",
       "    .dataframe tbody tr th:only-of-type {\n",
       "        vertical-align: middle;\n",
       "    }\n",
       "\n",
       "    .dataframe tbody tr th {\n",
       "        vertical-align: top;\n",
       "    }\n",
       "\n",
       "    .dataframe thead th {\n",
       "        text-align: right;\n",
       "    }\n",
       "</style>\n",
       "<table border=\"1\" class=\"dataframe\">\n",
       "  <thead>\n",
       "    <tr style=\"text-align: right;\">\n",
       "      <th></th>\n",
       "      <th>Brd</th>\n",
       "      <th>Ch</th>\n",
       "      <th>LG</th>\n",
       "      <th>HG</th>\n",
       "      <th>Tstamp_us</th>\n",
       "      <th>TrgID</th>\n",
       "      <th>NHits</th>\n",
       "    </tr>\n",
       "  </thead>\n",
       "  <tbody>\n",
       "    <tr>\n",
       "      <th>0</th>\n",
       "      <td>1</td>\n",
       "      <td>0</td>\n",
       "      <td>27</td>\n",
       "      <td>-</td>\n",
       "      <td>8785.784</td>\n",
       "      <td>0.0</td>\n",
       "      <td>64.0</td>\n",
       "    </tr>\n",
       "    <tr>\n",
       "      <th>1</th>\n",
       "      <td>1</td>\n",
       "      <td>1</td>\n",
       "      <td>30</td>\n",
       "      <td>-</td>\n",
       "      <td>NaN</td>\n",
       "      <td>NaN</td>\n",
       "      <td>NaN</td>\n",
       "    </tr>\n",
       "    <tr>\n",
       "      <th>2</th>\n",
       "      <td>1</td>\n",
       "      <td>2</td>\n",
       "      <td>34</td>\n",
       "      <td>-</td>\n",
       "      <td>NaN</td>\n",
       "      <td>NaN</td>\n",
       "      <td>NaN</td>\n",
       "    </tr>\n",
       "    <tr>\n",
       "      <th>3</th>\n",
       "      <td>1</td>\n",
       "      <td>3</td>\n",
       "      <td>35</td>\n",
       "      <td>-</td>\n",
       "      <td>NaN</td>\n",
       "      <td>NaN</td>\n",
       "      <td>NaN</td>\n",
       "    </tr>\n",
       "    <tr>\n",
       "      <th>4</th>\n",
       "      <td>1</td>\n",
       "      <td>4</td>\n",
       "      <td>26</td>\n",
       "      <td>-</td>\n",
       "      <td>NaN</td>\n",
       "      <td>NaN</td>\n",
       "      <td>NaN</td>\n",
       "    </tr>\n",
       "    <tr>\n",
       "      <th>...</th>\n",
       "      <td>...</td>\n",
       "      <td>...</td>\n",
       "      <td>...</td>\n",
       "      <td>...</td>\n",
       "      <td>...</td>\n",
       "      <td>...</td>\n",
       "      <td>...</td>\n",
       "    </tr>\n",
       "    <tr>\n",
       "      <th>526011</th>\n",
       "      <td>0</td>\n",
       "      <td>59</td>\n",
       "      <td>4066</td>\n",
       "      <td>-</td>\n",
       "      <td>NaN</td>\n",
       "      <td>NaN</td>\n",
       "      <td>NaN</td>\n",
       "    </tr>\n",
       "    <tr>\n",
       "      <th>526012</th>\n",
       "      <td>0</td>\n",
       "      <td>60</td>\n",
       "      <td>3998</td>\n",
       "      <td>-</td>\n",
       "      <td>NaN</td>\n",
       "      <td>NaN</td>\n",
       "      <td>NaN</td>\n",
       "    </tr>\n",
       "    <tr>\n",
       "      <th>526013</th>\n",
       "      <td>0</td>\n",
       "      <td>61</td>\n",
       "      <td>242</td>\n",
       "      <td>-</td>\n",
       "      <td>NaN</td>\n",
       "      <td>NaN</td>\n",
       "      <td>NaN</td>\n",
       "    </tr>\n",
       "    <tr>\n",
       "      <th>526014</th>\n",
       "      <td>0</td>\n",
       "      <td>62</td>\n",
       "      <td>250</td>\n",
       "      <td>-</td>\n",
       "      <td>NaN</td>\n",
       "      <td>NaN</td>\n",
       "      <td>NaN</td>\n",
       "    </tr>\n",
       "    <tr>\n",
       "      <th>526015</th>\n",
       "      <td>0</td>\n",
       "      <td>63</td>\n",
       "      <td>244</td>\n",
       "      <td>-</td>\n",
       "      <td>NaN</td>\n",
       "      <td>NaN</td>\n",
       "      <td>NaN</td>\n",
       "    </tr>\n",
       "  </tbody>\n",
       "</table>\n",
       "<p>526016 rows × 7 columns</p>\n",
       "</div>"
      ],
      "text/plain": [
       "        Brd  Ch    LG HG  Tstamp_us  TrgID  NHits\n",
       "0         1   0    27  -   8785.784    0.0   64.0\n",
       "1         1   1    30  -        NaN    NaN    NaN\n",
       "2         1   2    34  -        NaN    NaN    NaN\n",
       "3         1   3    35  -        NaN    NaN    NaN\n",
       "4         1   4    26  -        NaN    NaN    NaN\n",
       "...     ...  ..   ... ..        ...    ...    ...\n",
       "526011    0  59  4066  -        NaN    NaN    NaN\n",
       "526012    0  60  3998  -        NaN    NaN    NaN\n",
       "526013    0  61   242  -        NaN    NaN    NaN\n",
       "526014    0  62   250  -        NaN    NaN    NaN\n",
       "526015    0  63   244  -        NaN    NaN    NaN\n",
       "\n",
       "[526016 rows x 7 columns]"
      ]
     },
     "execution_count": 2,
     "metadata": {},
     "output_type": "execute_result"
    }
   ],
   "source": [
    "dfs = [pd.read_csv(f\"Datos/acople_final\\Run{i}_list.txt\", delim_whitespace=True, skiprows=9, names=[\"Brd\", \"Ch\", \"LG\", \"HG\", \"Tstamp_us\", \"TrgID\", \"NHits\"], engine=\"python\") for i in range(1,6)]\n",
    "dfs[0]"
   ]
  },
  {
   "cell_type": "code",
   "execution_count": null,
   "metadata": {},
   "outputs": [],
   "source": [
    "# Escoger archivo de lectura\n",
    "k = 3\n",
    "df = dfs[k]"
   ]
  },
  {
   "cell_type": "code",
   "execution_count": null,
   "metadata": {},
   "outputs": [
    {
     "data": {
      "text/plain": [
       "(0         0.000000e+00\n",
       " 64        9.999976e+03\n",
       " 128       1.999994e+04\n",
       " 192       2.999990e+04\n",
       " 256       3.999988e+04\n",
       "               ...     \n",
       " 397568    5.996982e+07\n",
       " 397632    5.997982e+07\n",
       " 397696    5.998982e+07\n",
       " 397760    5.999437e+07\n",
       " 397824    5.999982e+07\n",
       " Name: Tstamp_us, Length: 6217, dtype: float64,\n",
       " 0         0.000000e+00\n",
       " 64        9.999984e+03\n",
       " 128       2.000003e+04\n",
       " 192       3.000001e+04\n",
       " 256       3.999990e+04\n",
       "               ...     \n",
       " 397568    5.996986e+07\n",
       " 397632    5.997986e+07\n",
       " 397696    5.998986e+07\n",
       " 397760    5.999440e+07\n",
       " 397824    5.999986e+07\n",
       " Name: Tstamp_us, Length: 6217, dtype: float64)"
      ]
     },
     "execution_count": 4,
     "metadata": {},
     "output_type": "execute_result"
    }
   ],
   "source": [
    "#Filtrar disparos por matriz\n",
    "df0 = df[df['Brd'] == 0]\n",
    "df1 = df[df['Brd'] == 1]\n",
    "\n",
    "# Elimina los vacios y se resta los tiempos de los disparos respecto al primero, tambien se resetea el indice\n",
    "df0 = df0.reset_index(drop=True)\n",
    "df1 = df1.reset_index(drop=True)\n",
    "df0 = round((df0[\"Tstamp_us\"].dropna()- df0[\"Tstamp_us\"].dropna()[0])/1,10)\n",
    "df1 = round((df1[\"Tstamp_us\"].dropna()- df1[\"Tstamp_us\"].dropna()[0])/1,10)\n",
    "\n",
    "df0, df1"
   ]
  },
  {
   "cell_type": "markdown",
   "metadata": {},
   "source": [
    "Diferencia de tiempos en disparos entre matrices"
   ]
  },
  {
   "cell_type": "code",
   "execution_count": 9,
   "metadata": {},
   "outputs": [
    {
     "data": {
      "text/plain": [
       "Text(0, 0.5, '|Δt| [μs]')"
      ]
     },
     "execution_count": 9,
     "metadata": {},
     "output_type": "execute_result"
    },
    {
     "data": {
      "image/png": "[encoded data removed]",
      "text/plain": [
       "<Figure size 640x480 with 1 Axes>"
      ]
     },
     "metadata": {},
     "output_type": "display_data"
    }
   ],
   "source": [
    "base = np.zeros_like(df0)\n",
    "for i in range(len(df0)) :\n",
    "    base[i] = i\n",
    "plt.plot(base,df1 - df0)\n",
    "plt.title(\"Diferencia de tiempo entre tarjetas por evento\")\n",
    "plt.xlabel(\"Evento\")\n",
    "plt.ylabel(\"|Δt| [μs]\")"
   ]
  }
 ],
 "metadata": {
  "kernelspec": {
   "display_name": "Python 3",
   "language": "python",
   "name": "python3"
  },
  "language_info": {
   "codemirror_mode": {
    "name": "ipython",
    "version": 3
   },
   "file_extension": ".py",
   "mimetype": "text/x-python",
   "name": "python",
   "nbconvert_exporter": "python",
   "pygments_lexer": "ipython3",
   "version": "3.11.2"
  }
 },
 "nbformat": 4,
 "nbformat_minor": 2
}
